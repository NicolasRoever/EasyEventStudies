{
 "cells": [
  {
   "cell_type": "code",
   "execution_count": 2,
   "metadata": {},
   "outputs": [],
   "source": [
    "import pandas as pd\n",
    "from datetime import datetime, timedelta\n",
    "import yfinance as yf\n",
    "import statsmodels.api as sm\n",
    "import numpy as np\n",
    "from scipy.stats import t, norm\n",
    "from IPython.core.debugger import Pdb\n",
    "import matplotlib.pyplot as plt\n",
    "import seaborn as sns\n",
    "from scipy import stats\n",
    "import requests\n",
    "import zipfile\n",
    "import io\n",
    "import pdb\n"
   ]
  },
  {
   "cell_type": "code",
   "execution_count": 3,
   "metadata": {},
   "outputs": [
    {
     "name": "stdout",
     "output_type": "stream",
     "text": [
      "[[1. 5.]\n",
      " [1. 5.]\n",
      " [1. 7.]]\n"
     ]
    }
   ],
   "source": [
    "# Create the data\n",
    "X = np.array([5, 5, 7])\n",
    "y = np.array([6, 8, 10])\n",
    "\n",
    "X_star = np.array([[1, 3],\n",
    "                   [1, 5]])\n",
    "\n",
    "normal_returns = np.array([-0.5 + 1.5 * 3, -0.5 + 1.5 * 5])\n",
    "\n",
    "event_window_returns = np.array([12, 16])\n",
    "\n",
    "\n",
    "\n",
    "# Add constant for intercept\n",
    "X = sm.add_constant(X)\n",
    "print(X)\n",
    "\n",
    "\n",
    "# Fit the model\n",
    "model = sm.OLS(y, X).fit()\n",
    "\n"
   ]
  },
  {
   "cell_type": "code",
   "execution_count": 4,
   "metadata": {},
   "outputs": [
    {
     "name": "stdout",
     "output_type": "stream",
     "text": [
      "                            OLS Regression Results                            \n",
      "==============================================================================\n",
      "Dep. Variable:                      y   R-squared:                       0.750\n",
      "Model:                            OLS   Adj. R-squared:                  0.500\n",
      "Method:                 Least Squares   F-statistic:                     3.000\n",
      "Date:                Thu, 31 Oct 2024   Prob (F-statistic):              0.333\n",
      "Time:                        13:32:40   Log-Likelihood:                -3.6486\n",
      "No. Observations:                   3   AIC:                             11.30\n",
      "Df Residuals:                       1   BIC:                             9.494\n",
      "Df Model:                           1                                         \n",
      "Covariance Type:            nonrobust                                         \n",
      "==============================================================================\n",
      "                 coef    std err          t      P>|t|      [0.025      0.975]\n",
      "------------------------------------------------------------------------------\n",
      "const         -0.5000      4.975     -0.101      0.936     -63.713      62.713\n",
      "x1             1.5000      0.866      1.732      0.333      -9.504      12.504\n",
      "==============================================================================\n",
      "Omnibus:                          nan   Durbin-Watson:                   2.500\n",
      "Prob(Omnibus):                    nan   Jarque-Bera (JB):                0.281\n",
      "Skew:                           0.000   Prob(JB):                        0.869\n",
      "Kurtosis:                       1.500   Cond. No.                         36.0\n",
      "==============================================================================\n",
      "\n",
      "Notes:\n",
      "[1] Standard Errors assume that the covariance matrix of the errors is correctly specified.\n"
     ]
    },
    {
     "name": "stderr",
     "output_type": "stream",
     "text": [
      "/Users/nicolasroever/opt/anaconda3/envs/debt_crisis/lib/python3.11/site-packages/statsmodels/stats/stattools.py:74: ValueWarning: omni_normtest is not valid with less than 8 observations; 3 samples were given.\n",
      "  warn(\"omni_normtest is not valid with less than 8 observations; %i \"\n"
     ]
    }
   ],
   "source": [
    "# Print the summary\n",
    "print(model.summary())"
   ]
  },
  {
   "cell_type": "code",
   "execution_count": 5,
   "metadata": {},
   "outputs": [
    {
     "name": "stdout",
     "output_type": "stream",
     "text": [
      "Actual values (y):\n",
      "[ 6  8 10]\n",
      "\n",
      "Fitted values (ŷ):\n",
      "[ 7.  7. 10.]\n",
      "\n",
      "Residuals (e = y - ŷ):\n",
      "[-1.  1.  0.]\n"
     ]
    }
   ],
   "source": [
    "# Get fitted values (ŷ)\n",
    "y_fitted = model.fittedvalues\n",
    "\n",
    "# Get residuals (errors)\n",
    "residuals = model.resid\n",
    "\n",
    "\n",
    "# Print results\n",
    "print(\"Actual values (y):\")\n",
    "print(y)\n",
    "print(\"\\nFitted values (ŷ):\")\n",
    "print(y_fitted)\n",
    "print(\"\\nResiduals (e = y - ŷ):\")\n",
    "print(residuals)"
   ]
  },
  {
   "cell_type": "code",
   "execution_count": 6,
   "metadata": {},
   "outputs": [
    {
     "name": "stdout",
     "output_type": "stream",
     "text": [
      "2.0\n",
      "2.0\n"
     ]
    }
   ],
   "source": [
    "dot_product = np.dot(residuals, residuals)\n",
    "print(dot_product)\n",
    "\n",
    "error_variance = dot_product / (len(y) - 2)\n",
    "print(error_variance)\n"
   ]
  },
  {
   "cell_type": "code",
   "execution_count": 7,
   "metadata": {},
   "outputs": [
    {
     "name": "stdout",
     "output_type": "stream",
     "text": [
      "[[1. 1. 1.]\n",
      " [5. 5. 7.]]\n",
      "[[ 3. 17.]\n",
      " [17. 99.]]\n",
      "[[12.375 -2.125]\n",
      " [-2.125  0.375]]\n"
     ]
    }
   ],
   "source": [
    "# Calculate X transpose\n",
    "X_transpose = X.T\n",
    "print(X_transpose)\n",
    "\n",
    "# Calculate X'X\n",
    "XTX = np.dot(X_transpose, X)\n",
    "print(XTX)\n",
    "\n",
    "# Calculate inverse of X'X\n",
    "XTX_inv = np.linalg.inv(XTX)\n",
    "print(XTX_inv)"
   ]
  },
  {
   "cell_type": "code",
   "execution_count": 10,
   "metadata": {},
   "outputs": [
    {
     "data": {
      "text/plain": [
       "2.0"
      ]
     },
     "execution_count": 10,
     "metadata": {},
     "output_type": "execute_result"
    }
   ],
   "source": [
    "error_variance"
   ]
  },
  {
   "cell_type": "code",
   "execution_count": 11,
   "metadata": {},
   "outputs": [
    {
     "name": "stdout",
     "output_type": "stream",
     "text": [
      "[[3.  1. ]\n",
      " [1.  0.5]]\n",
      "[[8. 2.]\n",
      " [2. 3.]]\n"
     ]
    }
   ],
   "source": [
    "#Now, I want to get the variance estimator for abnormal returns during event window.\n",
    "\n",
    "X_star_transpose = X_star.T\n",
    "\n",
    "X_star_XTX_inv_X_star_transpose = np.dot(np.dot(X_star, XTX_inv), X_star.T)\n",
    "\n",
    "print(X_star_XTX_inv_X_star_transpose)\n",
    "\n",
    "variance = np.eye(2) * error_variance + X_star_XTX_inv_X_star_transpose * error_variance\n",
    "\n",
    "print(variance)"
   ]
  },
  {
   "cell_type": "code",
   "execution_count": 9,
   "metadata": {},
   "outputs": [
    {
     "data": {
      "text/plain": [
       "array([4., 7.])"
      ]
     },
     "execution_count": 9,
     "metadata": {},
     "output_type": "execute_result"
    }
   ],
   "source": [
    "normal_returns\n",
    "\n"
   ]
  },
  {
   "cell_type": "code",
   "execution_count": 32,
   "metadata": {},
   "outputs": [
    {
     "name": "stdout",
     "output_type": "stream",
     "text": [
      "[8. 9.]\n"
     ]
    }
   ],
   "source": [
    "\n",
    "\n",
    "\n",
    "abnormal_returns = event_window_returns - normal_returns\n",
    "\n",
    "print(abnormal_returns)\n",
    "\n"
   ]
  },
  {
   "cell_type": "code",
   "execution_count": 33,
   "metadata": {},
   "outputs": [
    {
     "name": "stdout",
     "output_type": "stream",
     "text": [
      "17.0\n"
     ]
    }
   ],
   "source": [
    "CAR = np.sum(abnormal_returns)\n",
    "\n",
    "print(CAR)\n",
    "\n"
   ]
  },
  {
   "cell_type": "code",
   "execution_count": 34,
   "metadata": {},
   "outputs": [
    {
     "name": "stdout",
     "output_type": "stream",
     "text": [
      "Result of [1 1] × variance × [1 1]ᵀ:\n",
      "223.0000000000007\n"
     ]
    }
   ],
   "source": [
    "\n",
    "# Calculate the product\n",
    "VAR_CAR = np.ones(2) @ variance @ np.ones(2).T\n",
    "# or alternatively: VAR_CAR = ones @ variance @ ones.T\n",
    "\n",
    "print(\"Result of [1 1] × variance × [1 1]ᵀ:\")\n",
    "print(VAR_CAR)"
   ]
  }
 ],
 "metadata": {
  "kernelspec": {
   "display_name": "debt_crisis",
   "language": "python",
   "name": "python3"
  },
  "language_info": {
   "codemirror_mode": {
    "name": "ipython",
    "version": 3
   },
   "file_extension": ".py",
   "mimetype": "text/x-python",
   "name": "python",
   "nbconvert_exporter": "python",
   "pygments_lexer": "ipython3",
   "version": "3.11.9"
  }
 },
 "nbformat": 4,
 "nbformat_minor": 2
}
